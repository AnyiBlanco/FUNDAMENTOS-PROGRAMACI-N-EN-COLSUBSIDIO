{
  "nbformat": 4,
  "nbformat_minor": 0,
  "metadata": {
    "colab": {
      "provenance": []
    },
    "kernelspec": {
      "name": "python3",
      "display_name": "Python 3"
    },
    "language_info": {
      "name": "python"
    }
  },
  "cells": [
    {
      "cell_type": "code",
      "execution_count": null,
      "metadata": {
        "colab": {
          "base_uri": "https://localhost:8080/"
        },
        "id": "sf2TC8CtM90U",
        "outputId": "9522cfe5-c67e-48e7-ed1d-219cfc47d2a9"
      },
      "outputs": [
        {
          "output_type": "stream",
          "name": "stdout",
          "text": [
            "0\n",
            "2\n",
            "4\n",
            "6\n",
            "8\n",
            "10\n",
            "12\n",
            "14\n",
            "16\n",
            "18\n",
            "20\n",
            "22\n",
            "24\n",
            "26\n",
            "28\n",
            "30\n",
            "32\n",
            "34\n",
            "36\n",
            "38\n",
            "40\n",
            "42\n",
            "44\n",
            "46\n",
            "48\n",
            "50\n",
            "52\n",
            "54\n",
            "56\n",
            "58\n",
            "60\n",
            "62\n",
            "64\n",
            "66\n",
            "68\n",
            "70\n",
            "72\n",
            "74\n",
            "76\n",
            "78\n",
            "80\n",
            "82\n",
            "84\n",
            "86\n",
            "88\n",
            "90\n",
            "92\n",
            "94\n",
            "96\n",
            "98\n",
            "100\n"
          ]
        }
      ],
      "source": [
        "for i in range(0,101,2):\n",
        "  print(i)"
      ]
    },
    {
      "cell_type": "code",
      "source": [
        "num = int(input(\"Digite el número de la tabla de multiplicar: \"))\n",
        "\n",
        "for i in range(11):\n",
        "  print(i, \" x \", num, \" = \",  i * num)"
      ],
      "metadata": {
        "colab": {
          "base_uri": "https://localhost:8080/"
        },
        "id": "jDmMOCVqNCzi",
        "outputId": "fc51753d-2257-4385-e253-3bd099668cea"
      },
      "execution_count": null,
      "outputs": [
        {
          "output_type": "stream",
          "name": "stdout",
          "text": [
            "Digite el número de la tabla de multiplicar: 9\n",
            "0  x  9  =  0\n",
            "1  x  9  =  9\n",
            "2  x  9  =  18\n",
            "3  x  9  =  27\n",
            "4  x  9  =  36\n",
            "5  x  9  =  45\n",
            "6  x  9  =  54\n",
            "7  x  9  =  63\n",
            "8  x  9  =  72\n",
            "9  x  9  =  81\n",
            "10  x  9  =  90\n"
          ]
        }
      ]
    },
    {
      "cell_type": "code",
      "source": [
        "num = int(input(\"Digite su edad: \"))\n",
        "\n",
        "for i in range(num + 1):\n",
        "  print(\"has cumplido\", i)"
      ],
      "metadata": {
        "colab": {
          "base_uri": "https://localhost:8080/"
        },
        "id": "K293kXXqC_CE",
        "outputId": "6b646fb2-4070-40c1-fe63-5a2743ba417f"
      },
      "execution_count": null,
      "outputs": [
        {
          "output_type": "stream",
          "name": "stdout",
          "text": [
            "Digite su edad: 24\n",
            "has cumplido 0\n",
            "has cumplido 1\n",
            "has cumplido 2\n",
            "has cumplido 3\n",
            "has cumplido 4\n",
            "has cumplido 5\n",
            "has cumplido 6\n",
            "has cumplido 7\n",
            "has cumplido 8\n",
            "has cumplido 9\n",
            "has cumplido 10\n",
            "has cumplido 11\n",
            "has cumplido 12\n",
            "has cumplido 13\n",
            "has cumplido 14\n",
            "has cumplido 15\n",
            "has cumplido 16\n",
            "has cumplido 17\n",
            "has cumplido 18\n",
            "has cumplido 19\n",
            "has cumplido 20\n",
            "has cumplido 21\n",
            "has cumplido 22\n",
            "has cumplido 23\n",
            "has cumplido 24\n"
          ]
        }
      ]
    },
    {
      "cell_type": "code",
      "source": [
        "num = int(input(\"Digite un número entero positivo: \"))\n",
        "\n",
        "for i in range(1,num + 1,2):\n",
        "  print(i, end= \",\")"
      ],
      "metadata": {
        "colab": {
          "base_uri": "https://localhost:8080/"
        },
        "id": "ShLCIueuEvg1",
        "outputId": "bf87a747-9af4-4d33-fa9e-8bb78f38b092"
      },
      "execution_count": null,
      "outputs": [
        {
          "output_type": "stream",
          "name": "stdout",
          "text": [
            "Digite un número entero positivo: 16\n",
            "1,3,5,7,9,11,13,15,"
          ]
        }
      ]
    },
    {
      "cell_type": "code",
      "source": [
        "acu = 0\n",
        "\n",
        "for i in range(0,100,2):\n",
        "  # print(i)\n",
        "  acu = acu + i\n",
        "print(f\"El total de la suma de los número pares del 1 hasta el 100 es {acu}\")"
      ],
      "metadata": {
        "colab": {
          "base_uri": "https://localhost:8080/"
        },
        "id": "ViPtzrPRGMl_",
        "outputId": "5d7d8fc7-e669-45f0-e3d5-6ae838753107"
      },
      "execution_count": null,
      "outputs": [
        {
          "output_type": "stream",
          "name": "stdout",
          "text": [
            "El total de la suma de los número pares del 1 hasta el 100 es 2450\n"
          ]
        }
      ]
    }
  ]
}