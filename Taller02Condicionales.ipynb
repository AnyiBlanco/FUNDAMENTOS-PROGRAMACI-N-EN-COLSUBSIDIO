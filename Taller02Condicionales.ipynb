{
  "nbformat": 4,
  "nbformat_minor": 0,
  "metadata": {
    "colab": {
      "provenance": []
    },
    "kernelspec": {
      "name": "python3",
      "display_name": "Python 3"
    },
    "language_info": {
      "name": "python"
    }
  },
  "cells": [
    {
      "cell_type": "code",
      "execution_count": null,
      "metadata": {
        "colab": {
          "base_uri": "https://localhost:8080/"
        },
        "id": "oh0_W52UhSNm",
        "outputId": "5b76d782-4765-4748-8081-1b64fc497723"
      },
      "outputs": [
        {
          "output_type": "stream",
          "name": "stdout",
          "text": [
            "Digite su Edad en números:  57\n",
            "Digite su sueldo básico $3000000\n",
            "Su bono prepensional es de $ 150,000.00 y el total con su sueldo es $ 3,150,000.00\n"
          ]
        }
      ],
      "source": [
        "Edad= float(input(\"Digite su Edad en números:  \"))\n",
        "if Edad > 55: \n",
        "  Sueldo_basico= float(input(\"Digite su sueldo básico $\"))\n",
        "  bono_prepension = Sueldo_basico * 0.05\n",
        "  total_sueldoybono = Sueldo_basico + bono_prepension\n",
        "  print(\"Su bono prepensional es de $ {:,.2f} y el total con su sueldo es $ {:,.2f}\".format(bono_prepension,total_sueldoybono))\n",
        "else:\n",
        "  print(\"No tiene bono prepensional\")"
      ]
    },
    {
      "cell_type": "code",
      "source": [
        "Edad= float(input(\"Digite su Edad en números:  \"))\n",
        "Sueldo_basico= float(input(\"Digite su sueldo básico $\"))\n",
        "if Edad > 55: \n",
        "  bono_prepension = Sueldo_basico * 0.05\n",
        "  total_sueldoybono = Sueldo_basico + bono_prepension\n",
        "  print(\"Su bono prepensional es de $ {:,.2f} y el total con su sueldo es $ {:,.2f}\".format(bono_prepension,total_sueldoybono))\n",
        "else:\n",
        "  print(\"No tiene bono prepensional\")"
      ],
      "metadata": {
        "colab": {
          "base_uri": "https://localhost:8080/"
        },
        "id": "43Mq_9f16sDk",
        "outputId": "1c5fdbf9-a376-45f9-e71f-ec65dad47616"
      },
      "execution_count": null,
      "outputs": [
        {
          "output_type": "stream",
          "name": "stdout",
          "text": [
            "Digite su Edad en números:  60\n",
            "Digite su sueldo básico $2500000\n",
            "Su bono prepensional es de $ 125,000.00 y el total con su sueldo es $ 2,625,000.00\n"
          ]
        }
      ]
    },
    {
      "cell_type": "code",
      "source": [
        "Estado_Civil= input(\"Digite su estado civil :  \")\n",
        "EC1 =\"CASADO\"\n",
        "EC2 =\"CASADA\"\n",
        "EC3 =\"Casado\"\n",
        "EC4 =\"casado\"\n",
        "EC5 =\"Casada\"\n",
        "EC6 =\"casada\"\n",
        "if Estado_Civil == EC1:\n",
        "  Numero_de_hijos = int(input(\"Digite su Número de hijos:  \"))\n",
        "  if Numero_de_hijos > 0:\n",
        "    print(\"¡Felicitaciones! iras de un paseo al finalizar el año\")\n",
        "elif Estado_Civil == EC2:\n",
        "  Numero_de_hijos = int(input(\"Digite su Número de hijos:  \"))\n",
        "  if Numero_de_hijos > 0:\n",
        "    print(\"¡Felicitaciones! iras de un paseo al finalizar el año\")\n",
        "elif Estado_Civil == EC3:\n",
        "  Numero_de_hijos = int(input(\"Digite su Número de hijos:  \"))\n",
        "  if Numero_de_hijos > 0:\n",
        "    print(\"¡Felicitaciones! iras de un paseo al finalizar el año\")\n",
        "elif Estado_Civil == EC4:\n",
        "  Numero_de_hijos = int(input(\"Digite su Número de hijos:  \"))\n",
        "  if Numero_de_hijos > 0:\n",
        "    print(\"¡Felicitaciones! iras de un paseo al finalizar el año\")\n",
        "elif Estado_Civil == EC5:\n",
        "  Numero_de_hijos = int(input(\"Digite su Número de hijos:  \"))\n",
        "  if Numero_de_hijos > 0:\n",
        "    print(\"¡Felicitaciones! iras de un paseo al finalizar el año\")\n",
        "elif Estado_Civil == EC6:\n",
        "  Numero_de_hijos = int(input(\"Digite su Número de hijos:  \"))\n",
        "  if Numero_de_hijos > 0:\n",
        "    print(\"¡Felicitaciones! iras de un paseo al finalizar el año\")"
      ],
      "metadata": {
        "colab": {
          "base_uri": "https://localhost:8080/"
        },
        "id": "mCUZggb41laI",
        "outputId": "46feaafa-2e67-4662-e549-d11980079881"
      },
      "execution_count": null,
      "outputs": [
        {
          "output_type": "stream",
          "name": "stdout",
          "text": [
            "Digite su estado civil :  casada\n",
            "Digite su Número de hijos:  1\n",
            "¡Felicitaciones! iras de un paseo al finalizar el año\n"
          ]
        }
      ]
    },
    {
      "cell_type": "code",
      "source": [
        "Sueldo_basico= float(input(\"Digite su sueldo básico $\"))\n",
        "if Sueldo_basico > 1000000 and Sueldo_basico < 1500000:\n",
        "  comision = Sueldo_basico * 0.02\n",
        "  total_sueldoycomision = Sueldo_basico + comision\n",
        "  print(\"Su comisión es de $ {:,.2f} y el total con su sueldo es $ {:,.2f}\".format(comision,total_sueldoycomision))\n",
        "elif Sueldo_basico > 1500001 and Sueldo_basico < 2000000:\n",
        "  comision = Sueldo_basico * 0.05\n",
        "  total_sueldoycomision = Sueldo_basico + comision\n",
        "  print(\"Su comisión es de $ {:,.2f} y el total con su sueldo es $ {:,.2f}\".format(comision,total_sueldoycomision))\n",
        "else:\n",
        "  print(\"No tiene comisiòn\")"
      ],
      "metadata": {
        "colab": {
          "base_uri": "https://localhost:8080/"
        },
        "id": "5acL-e9XHk-8",
        "outputId": "d4d5a7bb-ce2f-4fab-91c7-af5b2fecef34"
      },
      "execution_count": null,
      "outputs": [
        {
          "output_type": "stream",
          "name": "stdout",
          "text": [
            "Digite su sueldo básico $3000000\n",
            "No tiene comisiòn\n"
          ]
        }
      ]
    },
    {
      "cell_type": "code",
      "source": [
        "Dias_Laborados= float(input(\"Digite la cantidad de días laborados durante el mes:  \"))\n",
        "if Dias_Laborados > 20:\n",
        " Sueldo_basico= float(input(\"Digite su sueldo básico $\"))\n",
        " if Sueldo_basico < 1000000:\n",
        "  print(\"¡Felicitaciones! ganaste un bono alimentario.\")"
      ],
      "metadata": {
        "colab": {
          "base_uri": "https://localhost:8080/"
        },
        "id": "bNyVVDGANX2t",
        "outputId": "3a3278a5-71e8-4643-bff5-2c663d1de88e"
      },
      "execution_count": null,
      "outputs": [
        {
          "output_type": "stream",
          "name": "stdout",
          "text": [
            "Digite la cantidad de días laborados durante el mes:  21\n",
            "Digite su sueldo básico $800000\n",
            "¡Felicitaciones! ganaste un bono alimentario.\n"
          ]
        }
      ]
    },
    {
      "cell_type": "markdown",
      "source": [
        "Todo completo\n"
      ],
      "metadata": {
        "id": "AIP6rzAb6_bj"
      }
    },
    {
      "cell_type": "code",
      "source": [
        "No_de_Identificacion= input(\"Digite su No de Identificación:  \")\n",
        "Nombres= input(\"Digite sus Nombres:  \")\n",
        "Apellidos= input(\"Digite sus Apellidos:  \")\n",
        "Direccion= input(\"Digite su Dirección:  \")\n",
        "Telefono= input(\"Digite su Teléfono:  \")\n",
        "Edad= float(input(\"Digite su Edad:  \"))\n",
        "Estado_Civil= input(\"Digite su Estado Civil:  \")\n",
        "Numero_de_hijos= int(input(\"Digite su Número de hijos:  \"))\n",
        "Estatura_en_centimetros = input(\"Digite su Estatura en centímetros:  \")\n",
        "fecha_de_contratacion = input(\"Digite su fecha de contratación  (Día/mes/año) :   \")\n",
        "Sueldo_basico= float(input(\"Digite su sueldo básico:  \"))\n",
        "Dias_Laborados= float(input(\"Digite sus días laborados en el mes:  \"))\n",
        "\n",
        "if Edad > 55: \n",
        "  bono_prepension = Sueldo_basico * 0.05\n",
        "  total_sueldoybono = Sueldo_basico + bono_prepension\n",
        "  print(\"Su bono prepensional es de $ {:,.2f} y el total con su sueldo es $ {:,.2f}\".format(bono_prepension,total_sueldoybono))\n",
        "else:\n",
        "  print(\"No tiene bono prepensional\")\n",
        "\n",
        "EC1 =\"CASADO\"\n",
        "EC2 =\"CASADA\"\n",
        "EC3 =\"Casado\"\n",
        "EC4 =\"casado\"\n",
        "EC5 =\"Casada\"\n",
        "EC6 =\"casada\"\n",
        "if Estado_Civil == EC1:\n",
        "    if Numero_de_hijos > 0:\n",
        "     print(\"¡Felicitaciones! iras de un paseo al finalizar el año\")\n",
        "elif Estado_Civil == EC2:\n",
        "    if Numero_de_hijos > 0:\n",
        "     print(\"¡Felicitaciones! iras de un paseo al finalizar el año\")\n",
        "elif Estado_Civil == EC3:\n",
        "  if Numero_de_hijos > 0:\n",
        "    print(\"¡Felicitaciones! iras de un paseo al finalizar el año\")\n",
        "elif Estado_Civil == EC4:\n",
        "  if Numero_de_hijos > 0:\n",
        "    print(\"¡Felicitaciones! iras de un paseo al finalizar el año\")\n",
        "elif Estado_Civil == EC5:\n",
        "  if Numero_de_hijos > 0:\n",
        "    print(\"¡Felicitaciones! iras de un paseo al finalizar el año\")\n",
        "elif Estado_Civil == EC6:\n",
        "  if Numero_de_hijos > 0:\n",
        "   print(\"¡Felicitaciones! iras a dar un paseo al finalizar el año\")\n",
        "\n",
        "if Sueldo_basico > 1000000 and Sueldo_basico < 1500000:\n",
        "  comision = Sueldo_basico * 0.02\n",
        "  total_sueldoycomision = Sueldo_basico + comision\n",
        "  print(\"Su comisión es de $ {:,.2f} y el total con su sueldo es $ {:,.2f}\".format(comision,total_sueldoycomision))\n",
        "elif Sueldo_basico > 1500001 and Sueldo_basico < 2000000:\n",
        "  comision = Sueldo_basico * 0.05\n",
        "  total_sueldoycomision = Sueldo_basico + comision\n",
        "  print(\"Su comisión es de $ {:,.2f} y el total con su sueldo es $ {:,.2f}\".format(comision,total_sueldoycomision))\n",
        "else:\n",
        "  print(\"No tiene comisiòn\")\n",
        "\n",
        "if Dias_Laborados > 20:\n",
        "  print(\"Gracias por tu compromiso con el trabajo\")\n",
        "  if Sueldo_basico < 1000000:\n",
        "   print(\"¡Felicitaciones! ganaste un bono alimentario.\")"
      ],
      "metadata": {
        "colab": {
          "base_uri": "https://localhost:8080/"
        },
        "id": "LA58AgY-7ETm",
        "outputId": "9d135e44-d646-4780-84c9-d6660a52a648"
      },
      "execution_count": 8,
      "outputs": [
        {
          "output_type": "stream",
          "name": "stdout",
          "text": [
            "Digite su No de Identificación:  123456789\n",
            "Digite sus Nombres:  ANYI\n",
            "Digite sus Apellidos:  BLANCO\n",
            "Digite su Dirección:  1234567\n",
            "Digite su Teléfono:  5555555\n",
            "Digite su Edad:  57\n",
            "Digite su Estado Civil:  casada\n",
            "Digite su Número de hijos:  1\n",
            "Digite su Estatura en centímetros:  165\n",
            "Digite su fecha de contratación  (Día/mes/año) :   01/01/2021\n",
            "Digite su sueldo básico:  900000\n",
            "Digite sus días laborados en el mes:  26\n",
            "Su bono prepensional es de $ 45,000.00 y el total con su sueldo es $ 945,000.00\n",
            "¡Felicitaciones! iras a dar un paseo al finalizar el año\n",
            "No tiene comisiòn\n",
            "Gracias por tu compromiso con el trabajo\n",
            "¡Felicitaciones! ganaste un bono alimentario.\n"
          ]
        }
      ]
    }
  ]
}