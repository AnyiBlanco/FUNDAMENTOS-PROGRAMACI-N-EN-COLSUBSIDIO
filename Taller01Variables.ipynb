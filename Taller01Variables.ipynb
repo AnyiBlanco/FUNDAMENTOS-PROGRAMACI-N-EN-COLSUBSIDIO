{
  "nbformat": 4,
  "nbformat_minor": 0,
  "metadata": {
    "colab": {
      "provenance": []
    },
    "kernelspec": {
      "name": "python3",
      "display_name": "Python 3"
    },
    "language_info": {
      "name": "python"
    }
  },
  "cells": [
    {
      "cell_type": "code",
      "execution_count": null,
      "metadata": {
        "colab": {
          "base_uri": "https://localhost:8080/"
        },
        "id": "oh0_W52UhSNm",
        "outputId": "02699d83-323f-4ea9-919d-0bdc44691fbb"
      },
      "outputs": [
        {
          "output_type": "stream",
          "name": "stdout",
          "text": [
            "1141365\n",
            "Anyi\n",
            "Blanco\n",
            "cra 11 N 11 -11\n",
            "5555555\n",
            "32\n",
            "Soltera\n",
            "1\n",
            "160\n",
            "01/01/2022\n",
            "1000000\n",
            "300\n"
          ]
        }
      ],
      "source": [
        "No_de_Identificacion = \"1141365\"\n",
        "print(No_de_Identificacion)\n",
        "Nombres = \"Anyi\"\n",
        "print(Nombres)\n",
        "Apellidos = \"Blanco\"\n",
        "print(Apellidos)\n",
        "Direccion = \"cra 11 N 11 -11\"\n",
        "print(Direccion)\n",
        "Telefono = \"5555555\"\n",
        "print(Telefono)\n",
        "Edad = \"32\"\n",
        "print(Edad)\n",
        "Estado_Civil = \"Soltera\"\n",
        "print(Estado_Civil)\n",
        "Número_de_hijos = \"1\"\n",
        "print(Número_de_hijos)\n",
        "Estatura_en_centimetros = \"160\"\n",
        "print(Estatura_en_centimetros)\n",
        "fecha_de_contratacion =\"01/01/2022\"\n",
        "print(fecha_de_contratacion)\n",
        "Sueldo_basico = \"1000000\"\n",
        "print(Sueldo_basico)\n",
        "Dias_Laborados = \"300\"\n",
        "print(Dias_Laborados)"
      ]
    },
    {
      "cell_type": "markdown",
      "source": [
        "# Nueva sección"
      ],
      "metadata": {
        "id": "jHSKSdX2yUVP"
      }
    },
    {
      "cell_type": "code",
      "source": [
        "No_de_Identificacion= input(\"Digite su No de Identificación:  \")\n",
        "print(No_de_Identificacion)\n",
        "Nombres= input(\"Digite sus Nombres:  \")\n",
        "print(Nombres)\n",
        "Apellidos= input(\"Digite sus Apellidos:  \")\n",
        "print(Apellidos)\n",
        "Direccion= input(\"Digite su Dirección:  \")\n",
        "print(Direccion)\n",
        "Telefono= input(\"Digite su Teléfono:  \")\n",
        "print(Telefono)\n",
        "Edad= input(\"Digite su Edad:  \")\n",
        "print(Edad)\n",
        "Estado_Civil= input(\"Digite su Estado Civil:  \")\n",
        "print(Estado_Civil)\n",
        "Numero_de_hijos= input(\"Digite su Número de hijos:  \")\n",
        "print(Número_de_hijos)\n",
        "Estatura_en_centimetros = input(\"Digite su Estatura en centímetros:  \")\n",
        "print(Estatura_en_centimetros)\n",
        "fecha_de_contratacion = input(\"Digite su fecha de contratación  (Día/mes/año) :   \")\n",
        "print(fecha_de_contratacion)\n",
        "Sueldo_basico= input(\"Digite su sueldo básico:  \")\n",
        "print(Sueldo_basico)\n",
        "Dias_Laborados= input(\"Digite la cantidad de días laborados durante el mes:  \")\n",
        "print(Dias_Laborados)"
      ],
      "metadata": {
        "colab": {
          "base_uri": "https://localhost:8080/"
        },
        "id": "8qrbGNEdVub1",
        "outputId": "3ccb5b87-0417-474f-d63b-e24cc7d7e881"
      },
      "execution_count": null,
      "outputs": [
        {
          "output_type": "stream",
          "name": "stdout",
          "text": [
            "Digite su No de Identificación:  11413\n",
            "11413\n",
            "Digite sus Nombres:  Anyi\n",
            "Anyi\n",
            "Digite sus Apellidos:  Blanco\n",
            "Blanco\n",
            "Digite su Dirección:  cra 11 N11 - 11\n",
            "cra 11 N11 - 11\n",
            "Digite su Teléfono:  5555555\n",
            "5555555\n",
            "Digite su Edad:  32\n",
            "32\n",
            "Digite su Estado Civil:  soltera\n",
            "soltera\n",
            "Digite su Número de hijos:  1\n",
            "1\n",
            "Digite su Estatura en centímetros:  160\n",
            "160\n",
            "Digite su fecha de contratación  (Día/mes/año) :   01/01/2021\n",
            "01/01/2021\n",
            "Digite su sueldo básico:  5000000\n",
            "5000000\n",
            "Digite sus días laborados:  300\n",
            "300\n"
          ]
        }
      ]
    },
    {
      "cell_type": "code",
      "source": [
        "No_de_Identificacion= input(\"Digite su No de Identificación:  \")\n",
        "Nombres= input(\"Digite sus Nombres:  \")\n",
        "Apellidos= input(\"Digite sus Apellidos:  \")\n",
        "Direccion= input(\"Digite su Dirección:  \")\n",
        "Telefono= input(\"Digite su Teléfono:  \")\n",
        "Edad= input(\"Digite su Edad:  \")\n",
        "Estado_Civil= input(\"Digite su Estado Civil:  \")\n",
        "Numero_de_hijos= input(\"Digite su Número de hijos:  \")\n",
        "Estatura_en_centimetros = input(\"Digite su Estatura en centímetros:  \")\n",
        "fecha_de_contratacion = input(\"Digite su fecha de contratación  (Día/mes/año) :   \")\n",
        "Sueldo_basico= input(\"Digite su sueldo básico:  \")\n",
        "Dias_Laborados= input(\"Digite sus días laborados:  \")\n",
        "print(No_de_Identificacion+ \", \"+Nombres +\" \"+ Apellidos +\", \"+Direccion+ \", \"+Telefono+ \", \"+Edad+ \", \"+Estado_Civil +\", \"+Numero_de_hijos+ \", \"+Estatura_en_centimetros+ \", \"+fecha_de_contratacion+ \", \"+Sueldo_basico+ \", \" +Dias_Laborados)"
      ],
      "metadata": {
        "colab": {
          "base_uri": "https://localhost:8080/"
        },
        "id": "YnHMTS38n9_T",
        "outputId": "9fc401d1-564c-49bf-9dac-18eccbfb0313"
      },
      "execution_count": null,
      "outputs": [
        {
          "output_type": "stream",
          "name": "stdout",
          "text": [
            "Digite su No de Identificación:  11413\n",
            "Digite sus Nombres:  ANYI\n",
            "Digite sus Apellidos:  BLANCO\n",
            "Digite su Dirección:  CRA SIMPRE VIVA 555\n",
            "Digite su Teléfono:  5555555\n",
            "Digite su Edad:  32\n",
            "Digite su Estado Civil:  SOLTERO\n",
            "Digite su Número de hijos:  1\n",
            "Digite su Estatura en centímetros:  160\n",
            "Digite su fecha de contratación  (Día/mes/año) :   01/01/2021\n",
            "Digite su sueldo básico:  4000000\n",
            "Digite sus días laborados:  300\n",
            "11413, ANYI BLANCO, CRA SIMPRE VIVA 555, 5555555, 32, SOLTERO, 1, 160, 01/01/2021, 4000000, 300\n"
          ]
        }
      ]
    },
    {
      "cell_type": "code",
      "source": [
        "No_de_Identificacion= input(\"Digite su No de Identificación:  \")\n",
        "Nombres= input(\"Digite sus Nombres:  \")\n",
        "Apellidos= input(\"Digite sus Apellidos:  \")\n",
        "Direccion= input(\"Digite su Dirección:  \")\n",
        "Telefono= input(\"Digite su Teléfono:  \")\n",
        "Edad= input(\"Digite su Edad:  \")\n",
        "Estado_Civil= input(\"Digite su Estado Civil:  \")\n",
        "Numero_de_hijos= input(\"Digite su Número de hijos:  \")\n",
        "Estatura_en_centimetros = input(\"Digite su Estatura en centímetros:  \")\n",
        "fecha_de_contratacion = input(\"Digite su fecha de contratación  (Día/mes/año) :   \")\n",
        "Sueldo_basico= input(\"Digite su sueldo básico:  \")\n",
        "Dias_Laborados= input(\"Digite sus días laborados:  \")"
      ],
      "metadata": {
        "colab": {
          "base_uri": "https://localhost:8080/"
        },
        "id": "89cjDpeYrd4e",
        "outputId": "3f7fcb8d-1dd4-412a-b3ac-ba7207dff30d"
      },
      "execution_count": null,
      "outputs": [
        {
          "name": "stdout",
          "output_type": "stream",
          "text": [
            "Digite su No de Identificación:  1141365\n",
            "Digite sus Nombres:  ANYI\n",
            "Digite sus Apellidos:  BLANCO\n",
            "Digite su Dirección:  CRA SIEMPRE VIVA 555\n",
            "Digite su Teléfono:  5555555\n",
            "Digite su Edad:  32\n",
            "Digite su Estado Civil:  SOLTERO\n",
            "Digite su Número de hijos:  1\n",
            "Digite su Estatura en centímetros:  160\n",
            "Digite su fecha de contratación  (Día/mes/año) :   01/01/2021\n",
            "Digite su sueldo básico:  4000000\n",
            "Digite sus días laborados:  300\n"
          ]
        }
      ]
    },
    {
      "cell_type": "code",
      "source": [],
      "metadata": {
        "id": "43hUhpJFoS7G"
      },
      "execution_count": null,
      "outputs": []
    }
  ]
}