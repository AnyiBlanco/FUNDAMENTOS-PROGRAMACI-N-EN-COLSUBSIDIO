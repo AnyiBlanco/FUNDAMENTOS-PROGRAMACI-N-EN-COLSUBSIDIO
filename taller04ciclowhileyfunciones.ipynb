{
  "nbformat": 4,
  "nbformat_minor": 0,
  "metadata": {
    "colab": {
      "provenance": []
    },
    "kernelspec": {
      "name": "python3",
      "display_name": "Python 3"
    },
    "language_info": {
      "name": "python"
    }
  },
  "cells": [
    {
      "cell_type": "code",
      "execution_count": null,
      "metadata": {
        "id": "-geDtoopP2hv",
        "colab": {
          "base_uri": "https://localhost:8080/"
        },
        "outputId": "b732d7fb-34fc-4dfe-975f-7c78f0ec753f"
      },
      "outputs": [
        {
          "name": "stdout",
          "output_type": "stream",
          "text": [
            "Digite su No de Identificación:  123456\n",
            "Digite sus Nombres:  ANYI YOHULY\n",
            "Digite sus Apellidos:  BLANCO MAYORGA\n",
            "Digite su Dirección:  calle falsa123\n",
            "Digite su Teléfono:  123456789\n",
            "Digite su Edad:  62\n",
            "Digite su Estado Civil:  soltera\n",
            "Digite su Número de hijos:  1\n",
            "Digite su Estatura en centímetros:  123\n",
            "Digite su fecha de contratación  (Día/mes/año) :   1234567\n",
            "Digite su sueldo básico:  150000\n",
            "Digite sus días laborados en el mes:  29\n",
            "Su bono prepensional es de $ 7,500.00 y el total con su sueldo es $ 157,500.00\n",
            "No tiene comisiòn\n",
            "Gracias por tu compromiso con el trabajo\n",
            "¡Felicitaciones! ganaste un bono alimentario.\n",
            "\\¿Desea realizar una nueva encuesta?(si/no)no\n"
          ]
        }
      ],
      "source": [
        "resp = \"si\"\n",
        "while resp == \"si\" or resp == \"SI\" or resp == \"sí\" or resp == \"yes\":\n",
        "\n",
        "  No_de_Identificacion= input(\"Digite su No de Identificación:  \")\n",
        "  Nombres= input(\"Digite sus Nombres:  \")\n",
        "  Apellidos= input(\"Digite sus Apellidos:  \")\n",
        "  Direccion= input(\"Digite su Dirección:  \")\n",
        "  Telefono= input(\"Digite su Teléfono:  \")\n",
        "  Edad= float(input(\"Digite su Edad:  \"))\n",
        "  Estado_Civil= input(\"Digite su Estado Civil:  \")\n",
        "  Numero_de_hijos= int(input(\"Digite su Número de hijos:  \"))\n",
        "  Estatura_en_centimetros = input(\"Digite su Estatura en centímetros:  \")\n",
        "  fecha_de_contratacion = input(\"Digite su fecha de contratación  (Día/mes/año) :   \")\n",
        "  Sueldo_basico= float(input(\"Digite su sueldo básico:  \"))\n",
        "  Dias_Laborados= float(input(\"Digite sus días laborados en el mes:  \"))\n",
        "\n",
        "  if Edad > 55: \n",
        "    bono_prepension = Sueldo_basico * 0.05\n",
        "    total_sueldoybono = Sueldo_basico + bono_prepension\n",
        "    print(\"Su bono prepensional es de $ {:,.2f} y el total con su sueldo es $ {:,.2f}\".format(bono_prepension,total_sueldoybono))\n",
        "  else:\n",
        "    print(\"No tiene bono prepensional\")\n",
        "\n",
        "  EC1 =\"CASADO\"\n",
        "  EC2 =\"CASADA\"\n",
        "  EC3 =\"Casado\"\n",
        "  EC4 =\"casado\"\n",
        "  EC5 =\"Casada\"\n",
        "  EC6 =\"casada\"\n",
        "  if Estado_Civil == EC1:\n",
        "      if Numero_de_hijos > 0:\n",
        "       print(\"¡Felicitaciones! iras de paseo al finalizar el año\")\n",
        "  elif Estado_Civil == EC2:\n",
        "      if Numero_de_hijos > 0:\n",
        "       print(\"¡Felicitaciones! iras de paseo al finalizar el año\")\n",
        "  elif Estado_Civil == EC3:\n",
        "    if Numero_de_hijos > 0:\n",
        "      print(\"¡Felicitaciones! iras de paseo al finalizar el año\")\n",
        "  elif Estado_Civil == EC4:\n",
        "    if Numero_de_hijos > 0:\n",
        "      print(\"¡Felicitaciones! iras de paseo al finalizar el año\")\n",
        "  elif Estado_Civil == EC5:\n",
        "    if Numero_de_hijos > 0:\n",
        "      print(\"¡Felicitaciones! iras de paseo al finalizar el año\")\n",
        "  elif Estado_Civil == EC6:\n",
        "    if Numero_de_hijos > 0:\n",
        "     print(\"¡Felicitaciones! iras a dar paseo al finalizar el año\")\n",
        "\n",
        "  if Sueldo_basico > 1000000 and Sueldo_basico < 1500000:\n",
        "    comision = Sueldo_basico * 0.02\n",
        "    total_sueldoycomision = Sueldo_basico + comision\n",
        "    print(\"Su comisión es de $ {:,.2f} y el total con su sueldo es $ {:,.2f}\".format(comision,total_sueldoycomision))\n",
        "  elif Sueldo_basico > 1500001 and Sueldo_basico < 2000000:\n",
        "    comision = Sueldo_basico * 0.05\n",
        "    total_sueldoycomision = Sueldo_basico + comision\n",
        "    print(\"Su comisión es de $ {:,.2f} y el total con su sueldo es $ {:,.2f}\".format(comision,total_sueldoycomision))\n",
        "  else:\n",
        "    print(\"No tiene comisiòn\")\n",
        "\n",
        "  if Dias_Laborados > 20:\n",
        "    print(\"Gracias por tu compromiso con el trabajo\")\n",
        "    if Sueldo_basico < 1000000:\n",
        "     print(\"¡Felicitaciones! ganaste un bono alimentario.\")\n",
        "\n",
        "    resp = input(\"\\¿Desea realizar una nueva encuesta?(si/no)\")"
      ]
    },
    {
      "cell_type": "code",
      "source": [
        "def hijos(Numhi):\n",
        "  if Numhi > 0:\n",
        "    print(\"tienes hijos\")\n",
        "  else:\n",
        "    print(\"no tienes hijos\")\n",
        "\n",
        "resp = \"no\"\n",
        "while resp == \"no\":\n",
        "  Numero_de_hijos= int(input(\"Digite su Número de hijos:  \"))\n",
        "  hijos(Numero_de_hijos)\n",
        "  resp = input(\"¿completaste el formulario?\")"
      ],
      "metadata": {
        "colab": {
          "base_uri": "https://localhost:8080/"
        },
        "id": "DMHEfGsw1ZP8",
        "outputId": "14ac534a-a84e-4682-b9f9-8457636f9386"
      },
      "execution_count": null,
      "outputs": [
        {
          "name": "stdout",
          "output_type": "stream",
          "text": [
            "Digite su Número de hijos:  1\n",
            "tienes hijos\n",
            "¿completaste el formulario?si\n"
          ]
        }
      ]
    },
    {
      "cell_type": "code",
      "source": [
        "def hijos(Numhi,EstCiv):\n",
        "  if Numhi > 0:\n",
        "    if EstCiv == \"CASADO\" or \"Casado\":\n",
        "      print(\"Ganaste paseo\")\n",
        "  else:\n",
        "      print(\"no tienes hijos\")\n",
        "\n",
        "resp = \"no\"\n",
        "while resp == \"no\":\n",
        "  Numero_de_hijos = int(input(\"Digite su Número de hijos:  \"))\n",
        "  Estado_Civil = input(\"Digite su Estado Civil:  \")\n",
        "  hijos(Numero_de_hijos,Estado_Civil)\n",
        "  resp = input(\"¿completaste el formulario?\")"
      ],
      "metadata": {
        "colab": {
          "base_uri": "https://localhost:8080/"
        },
        "id": "hkZqfwTC6SX0",
        "outputId": "be48fc7a-3e0f-4065-fc6e-0cb81f8a4eb0"
      },
      "execution_count": null,
      "outputs": [
        {
          "name": "stdout",
          "output_type": "stream",
          "text": [
            "Digite su Número de hijos:  2\n",
            "Digite su Estado Civil:  sdfg\n",
            "Ganaste paseo\n",
            "¿completaste el formulario?no\n",
            "Digite su Número de hijos:  0\n",
            "Digite su Estado Civil:  sd\n",
            "no tienes hijos\n",
            "¿completaste el formulario?no\n",
            "Digite su Número de hijos:  0\n",
            "Digite su Estado Civil:  CASADO\n",
            "no tienes hijos\n",
            "¿completaste el formulario?SI\n"
          ]
        }
      ]
    },
    {
      "cell_type": "code",
      "source": [
        "resp = \"si\"\n",
        "while resp == \"si\" or resp == \"SI\" or resp == \"sí\" or resp == \"yes\":\n",
        "\n",
        "  No_de_Identificacion= input(\"Digite su No de Identificación:  \")\n",
        "  Nombres= input(\"Digite sus Nombres:  \")\n",
        "  Apellidos= input(\"Digite sus Apellidos:  \")\n",
        "  Direccion= input(\"Digite su Dirección:  \")\n",
        "  Telefono= input(\"Digite su Teléfono:  \")\n",
        "  Edad= float(input(\"Digite su Edad:  \"))\n",
        "  Estado_Civil= input(\"Digite su Estado Civil:  \")\n",
        "  Numero_de_hijos= int(input(\"Digite su Número de hijos:  \"))\n",
        "  Estatura_en_centimetros = input(\"Digite su Estatura en centímetros:  \")\n",
        "  fecha_de_contratacion = input(\"Digite su fecha de contratación  (Día/mes/año) :   \")\n",
        "  Sueldo_basico= float(input(\"Digite su sueldo básico:  \"))\n",
        "  Dias_Laborados= float(input(\"Digite sus días laborados en el mes:  \"))\n",
        "\n",
        "  if Edad > 55: \n",
        "    bono_prepension = Sueldo_basico * 0.05\n",
        "    total_sueldoybono = Sueldo_basico + bono_prepension\n",
        "    print(\"Su bono prepensional es de $ {:,.2f} y el total con su sueldo es $ {:,.2f}\".format(bono_prepension,total_sueldoybono))\n",
        "  else:\n",
        "    print(\"No tiene bono prepensional\")\n",
        "\n",
        "  EC1 =\"CASADO\"\n",
        "  EC2 =\"CASADA\"\n",
        "  EC3 =\"Casado\"\n",
        "  EC4 =\"casado\"\n",
        "  EC5 =\"Casada\"\n",
        "  EC6 =\"casada\"\n",
        "  if Estado_Civil == EC1:\n",
        "      if Numero_de_hijos > 0:\n",
        "       print(\"¡Felicitaciones! iras de paseo al finalizar el año\")\n",
        "  elif Estado_Civil == EC2:\n",
        "      if Numero_de_hijos > 0:\n",
        "       print(\"¡Felicitaciones! iras de paseo al finalizar el año\")\n",
        "  elif Estado_Civil == EC3:\n",
        "    if Numero_de_hijos > 0:\n",
        "      print(\"¡Felicitaciones! iras de paseo al finalizar el año\")\n",
        "  elif Estado_Civil == EC4:\n",
        "    if Numero_de_hijos > 0:\n",
        "      print(\"¡Felicitaciones! iras de paseo al finalizar el año\")\n",
        "  elif Estado_Civil == EC5:\n",
        "    if Numero_de_hijos > 0:\n",
        "      print(\"¡Felicitaciones! iras de paseo al finalizar el año\")\n",
        "  elif Estado_Civil == EC6:\n",
        "    if Numero_de_hijos > 0:\n",
        "     print(\"¡Felicitaciones! iras a dar paseo al finalizar el año\")\n",
        "\n",
        "  if Sueldo_basico > 1000000 and Sueldo_basico < 1500000:\n",
        "    comision = Sueldo_basico * 0.02\n",
        "    total_sueldoycomision = Sueldo_basico + comision\n",
        "    print(\"Su comisión es de $ {:,.2f} y el total con su sueldo es $ {:,.2f}\".format(comision,total_sueldoycomision))\n",
        "  elif Sueldo_basico > 1500001 and Sueldo_basico < 2000000:\n",
        "    comision = Sueldo_basico * 0.05\n",
        "    total_sueldoycomision = Sueldo_basico + comision\n",
        "    print(\"Su comisión es de $ {:,.2f} y el total con su sueldo es $ {:,.2f}\".format(comision,total_sueldoycomision))\n",
        "  else:\n",
        "    print(\"No tiene comisiòn\")\n",
        "\n",
        "  if Dias_Laborados > 20:\n",
        "    print(\"Gracias por tu compromiso con el trabajo\")\n",
        "    if Sueldo_basico < 1000000:\n",
        "     print(\"¡Felicitaciones! ganaste un bono alimentario.\")\n",
        "\n",
        "    resp = input(\"¿Desea realizar una nueva encuesta?(si/no)\")"
      ],
      "metadata": {
        "id": "pHredcq8eann"
      },
      "execution_count": null,
      "outputs": []
    }
  ]
}