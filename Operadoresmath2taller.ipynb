{
  "nbformat": 4,
  "nbformat_minor": 0,
  "metadata": {
    "colab": {
      "provenance": []
    },
    "kernelspec": {
      "name": "python3",
      "display_name": "Python 3"
    },
    "language_info": {
      "name": "python"
    }
  },
  "cells": [
    {
      "cell_type": "markdown",
      "source": [
        "Un vendedor recibe un sueldo base más un 10% extra por\n",
        "comisión de sus ventas, el vendedor desea saber cuánto\n",
        "dinero obtendrá por concepto de comisiones por las tres\n",
        "ventas que realiza en el mes y el total que recibirá en\n",
        "el mes tomando en cuenta su sueldo base y comisiones."
      ],
      "metadata": {
        "id": "mi36a1RaqgKL"
      }
    },
    {
      "cell_type": "code",
      "source": [
        "sueldo_base = float(input(\"Digite su sueldo base\"))\n",
        "ventas1 = float(input(\"Digite el valor de la primera venta\"))\n",
        "ventas2 = float(input(\"Digite el valor de la segunda venta\"))\n",
        "ventas3 = float(input(\"Digite el valor de la tercera venta\"))\n",
        "total_ventas = round(ventas1 + ventas2 + ventas3)\n",
        "if total_ventas > 0:\n",
        "  comision = total_ventas * 0.10\n",
        "  sueldo_total = sueldo_base + comision \n",
        "  print(\"Su sueldo total es{}\".format(sueldo_total))"
      ],
      "metadata": {
        "colab": {
          "base_uri": "https://localhost:8080/"
        },
        "id": "VQdj8LifqjFi",
        "outputId": "b682018a-009a-4952-b75a-00c639a6ae09"
      },
      "execution_count": null,
      "outputs": [
        {
          "output_type": "stream",
          "name": "stdout",
          "text": [
            "Digite su sueldo base1000000\n",
            "Digite el valor de la primera venta400000\n",
            "Digite el valor de la segunda venta300000\n",
            "Digite el valor de la tercera venta700000\n",
            "su sueldo total es1140000.0\n"
          ]
        }
      ]
    },
    {
      "cell_type": "markdown",
      "source": [
        "Una tienda ofrece un descuento del 15% sobre el total\n",
        "de la compra y un cliente desea saber cuánto deberá\n",
        "pagar finalmente por su compra."
      ],
      "metadata": {
        "id": "hWi6nbc9vzjb"
      }
    },
    {
      "cell_type": "code",
      "source": [
        "compra = float(input(\"¿Cuanto fue el total de la compra? $\"))\n",
        "descuento = compra * 0.15\n",
        "total_a_pagar = compra - descuento\n",
        "print(\"El descuento es =${:,.0f} y el total a pagar es= {:,.0f}\".format(descuento, total_a_pagar))"
      ],
      "metadata": {
        "colab": {
          "base_uri": "https://localhost:8080/"
        },
        "id": "SnMtbdjvv4Zz",
        "outputId": "d388cafa-4377-4fa9-c27a-f3bd80567e54"
      },
      "execution_count": null,
      "outputs": [
        {
          "output_type": "stream",
          "name": "stdout",
          "text": [
            "¿Cuanto fue el total de la compra? $500000\n",
            "El descuento es =$75,000 y el total a pagar es= 425,000\n"
          ]
        }
      ]
    },
    {
      "cell_type": "markdown",
      "source": [
        "Un alumno desea saber cuál será su calificación final en\n",
        "la materia de Algoritmos. Dicha calificación se compone\n",
        "de tres exámenes parciales."
      ],
      "metadata": {
        "id": "cVXroKpixd3K"
      }
    },
    {
      "cell_type": "code",
      "source": [
        "calificacion1 = float(input(\"Digite la calificaicón 1: \"))\n",
        "calificacion2 = float(input(\"Digite la calificaicón 2: \"))\n",
        "calificacion3 = float(input(\"Digite la calificaicón 3: \"))\n",
        "\n",
        "prom = round((calificacion1 + calificacion2 + calificacion3) / 3, 2)\n",
        "\n",
        "print(f\"Su calificación final es {prom}\")"
      ],
      "metadata": {
        "colab": {
          "base_uri": "https://localhost:8080/"
        },
        "id": "k67Z8ExJxikm",
        "outputId": "9bbdfeba-e95e-4ed1-d4ee-199801ac5231"
      },
      "execution_count": null,
      "outputs": [
        {
          "output_type": "stream",
          "name": "stdout",
          "text": [
            "Digite la calificaicón 1: 4\n",
            "Digite la calificaicón 2: 8\n",
            "Digite la calificaicón 3: 9\n",
            "Su calificación final es 7.0\n"
          ]
        }
      ]
    },
    {
      "cell_type": "markdown",
      "source": [
        "Un maestro desea saber qué porcentaje de hombres y que\n",
        "porcentaje de mujeres hay en un grupo de estudiantes."
      ],
      "metadata": {
        "id": "BiHs_zPGzwsk"
      }
    },
    {
      "cell_type": "code",
      "source": [
        "hombres = float(input(\"Digite la cantidad de hombres:\"))\n",
        "mujeres = float(input(\"Digite la cantidad de mujeres:\"))\n",
        "alumnos = hombres + mujeres\n",
        "porcentaje_de_hombres = hombres * 100 / alumnos\n",
        "porcentaje_de_mujeres = mujeres * 100/ alumnos\n",
        "print(f\"el porcentaje de hombres es {porcentaje_de_hombres} y el de mujeres es {porcentaje_de_mujeres} \")"
      ],
      "metadata": {
        "colab": {
          "base_uri": "https://localhost:8080/"
        },
        "id": "QN2GAgDuzyxd",
        "outputId": "84e8370b-71e6-46ee-f0c9-a9bc442c438d"
      },
      "execution_count": null,
      "outputs": [
        {
          "output_type": "stream",
          "name": "stdout",
          "text": [
            "Digite la cantidad de hombres:20\n",
            "Digite la cantidad de mujeres:35\n",
            "el porcentaje de hombres es 36.36363636363637 y el de mujeres es 63.63636363636363 \n"
          ]
        }
      ]
    }
  ]
}